{
 "cells": [
  {
   "cell_type": "markdown",
   "metadata": {},
   "source": [
    "## 1. Loading Packages\n",
    "We don't need many packages to complete this example. We will use `numpy` to generate our toy dataset, `matplotlib` for visualization, and `torch` for deep learning."
   ]
  },
  {
   "cell_type": "code",
   "execution_count": 1,
   "metadata": {},
   "outputs": [],
   "source": [
    "# import packages \n",
    "import numpy as np\n",
    "import matplotlib.pyplot as plt\n",
    "import torch\n",
    "import torch.nn as nn\n",
    "import torch.optim as optim\n",
    "from torch.utils.data import DataLoader, Dataset, Subset"
   ]
  },
  {
   "cell_type": "markdown",
   "metadata": {},
   "source": [
    "## 2. Creating a Dataset\n",
    "We will begin by creating a toy dataset. We will use numpy to create 1000 random normal samples with a dimension of 1, which we will use as our inputs, $x$. We will apply a transformation of $(2x + 1) + \\epsilon$, where $\\epsilon$ is some random noise, to create our target data, $y$."
   ]
  },
  {
   "cell_type": "code",
   "execution_count": 2,
   "metadata": {},
   "outputs": [
    {
     "name": "stdout",
     "output_type": "stream",
     "text": [
      "(1000, 1) (1000, 1)\n"
     ]
    }
   ],
   "source": [
    "# load in the data\n",
    "# make a toy dataset with 1000 samples\n",
    "np.random.seed(0)\n",
    "n = 1000 # number of samples\n",
    "x = np.random.rand(n, 1)\n",
    "y = 2 * x + 1 + (0.1 * np.random.randn(n, 1))\n",
    "\n",
    "# x and y are the same shape, 1000 rows x 1 column\n",
    "print(x.shape, y.shape)"
   ]
  },
  {
   "cell_type": "markdown",
   "metadata": {},
   "source": [
    "### 2.1. Why torch?\n",
    "Torch tensors essentially retain the same function as numpy arrays, with a few added benefits:\n",
    "* **GPU Acceleration** - torch tensors are natively compatible with GPUs, unlike numpy arrays. This is critical during the training of large neural networks.\n",
    "* **Batching** - torch tensors are compatible with pytorch batching methods, where we can feed multiple examples at a time to a neural network easily. We learn more about batching in [section 2.3](#23-torch-dataloaders). \n",
    "* **Gradient tracking** - torch automatically tracks gradient information inside of tensors. This is crucial for neural network training, which relies on gradient information.\n",
    "\n"
   ]
  },
  {
   "cell_type": "code",
   "execution_count": 4,
   "metadata": {},
   "outputs": [],
   "source": [
    "x_tensor = torch.tensor(x, dtype=torch.float32)\n",
    "y_tensor = torch.tensor(y, dtype=torch.float32)"
   ]
  },
  {
   "cell_type": "markdown",
   "metadata": {},
   "source": [
    "### 2.2. Dataset Class\n",
    "We create a simple dataset class, inheriting from the native torch Dataset. A torch dataset needs three methods:\n",
    "* `__init__()`: Initializes the dataset. In our example, we pass our input data $x$ and output data $y$ as arguments.\n",
    "* `__len__()`: Gets the length of the dataset with `len()`. Should reflect the number of examples (rows) in the dataset.\n",
    "* `__getitem__()`: Retrieves the item at a specific index (e.g. `x_obs, y_obs = dataset[0]`)\n",
    "\n",
    "The dataset class is important because it allows us to return observations in a streamlined manner. Datasets are compatible with Dataloaders (used for batching), and they are flexible and customizable."
   ]
  },
  {
   "cell_type": "code",
   "execution_count": 5,
   "metadata": {},
   "outputs": [],
   "source": [
    "# create a dataset\n",
    "class SimpleDataset(Dataset):\n",
    "\n",
    "    def __init__(self, x, y):\n",
    "        super(SimpleDataset, self).__init__()\n",
    "        self.x_data = x\n",
    "        self.y_data = y\n",
    "\n",
    "    def __len__(self):\n",
    "        return len(self.x_data)\n",
    "\n",
    "    def __getitem__(self, index):\n",
    "        return self.x_data[index], self.y_data[index]\n",
    "\n",
    "dataset = SimpleDataset(x_tensor, y_tensor)"
   ]
  },
  {
   "cell_type": "markdown",
   "metadata": {},
   "source": [
    "### 2.3. Torch Dataloaders\n",
    "The next step in our pipeline is Dataloader construction. First, we separate our data into train and test sets by randomly sampling indices in our general dataset. We use torch's `Subset` class to efficiently partition the dataset. Next, we define our dataloaders. They take three arguments:\n",
    "\n",
    "* **dataset** - the dataset to turn into an object\n",
    "* **batch_size** - the number of examples to return in each batch\n",
    "* **shuffle** - whether or not to shuffle the dataset\n",
    "\n",
    "Dataloaders are iterable objects, meaning you can loop through them in the same way you would a list. They return `batch_size` examples for each iteration. Training a neural network on batches leads to less noisy optimization than training on single examples. "
   ]
  },
  {
   "cell_type": "code",
   "execution_count": 6,
   "metadata": {},
   "outputs": [],
   "source": [
    "# split the dataset into train and test\n",
    "train_prop = 0.8 # 80%\n",
    "train_size = int(train_prop * len(dataset)) # .80 * 1000 = 800\n",
    "train_idx = np.random.choice(len(dataset), train_size, replace=False) # random sample 800 indices, w/o replacement\n",
    "test_idx = np.setdiff1d(np.arange(len(dataset)), train_idx) # get the indices that are not in train_idx\n",
    "\n",
    "train_dataset = Subset(dataset, train_idx) \n",
    "test_dataset = Subset(dataset, test_idx)\n",
    "\n",
    "train_loader = DataLoader(train_dataset, batch_size=8, shuffle=True)\n",
    "test_loader = DataLoader(test_dataset, batch_size=8, shuffle=False)"
   ]
  },
  {
   "cell_type": "markdown",
   "metadata": {},
   "source": [
    "## 3. Creating a Neural Net\n",
    "Next, we  will create our neural network class. For this example, we will create a simple MLP. Neural network classes inherit from torch's `nn.Module` class, they require two methods:\n",
    "\n",
    "* **__init__**: defines the network attributes and layers. In this example, we define two fully connected layers and an activation function. Layer 1 projects our single-column $x$ value to vector space of length 64 via a matrix multiplication, and layer 2 projects this output back down from dimension 64 to 1, matching our single column $y$ shape. Additionally, we will apply the non-linear ReLU function to the output of layer 1.\n",
    "\n",
    "* **forward**: defines the computation order of the forward pass. In this example, we send our input $x$ through the first fully-connected layer, then through the activation, and then the second fully-connected layer. The final output is returned as our predicted value."
   ]
  },
  {
   "cell_type": "code",
   "execution_count": 7,
   "metadata": {},
   "outputs": [],
   "source": [
    "class Net(nn.Module):\n",
    "\n",
    "    def __init__(self):\n",
    "        super(Net, self).__init__()\n",
    "\n",
    "        # architecture: fc (1 -> 64) -> ReLU -> fc (64 -> 1)\n",
    "        self.fc1 = nn.Linear(1, 64)\n",
    "        self.fc2 = nn.Linear(64, 1)\n",
    "        self.act = nn.ReLU()\n",
    "\n",
    "    def forward(self, x):\n",
    "        # is is a 1D tensor\n",
    "        x = self.fc1(x) # 8x1 -> 8x64\n",
    "        x = self.act(x) # 8x64\n",
    "        x = self.fc2(x) # 8x64 -> 8x1\n",
    "\n",
    "        return x\n",
    "model = Net()"
   ]
  },
  {
   "cell_type": "markdown",
   "metadata": {},
   "source": [
    "**Example:** Now that we've created a quick dataset, let's make an example prediction on a single value from our dataset. We see that the *actual* and *model predicted* $y$ values are **very far off!** This is because when we create a neural network, the weight matrices are initialized randomly, so the initial predictions are very bad. Also, note the gradient information that's now included in the model-predicted tensor..."
   ]
  },
  {
   "cell_type": "code",
   "execution_count": 8,
   "metadata": {},
   "outputs": [
    {
     "name": "stdout",
     "output_type": "stream",
     "text": [
      "tensor([2.2114]) tensor([0.2326], grad_fn=<ViewBackward0>)\n"
     ]
    }
   ],
   "source": [
    "x, y = train_dataset[0]\n",
    "y_pred = model(x)\n",
    "print(y, y_pred)"
   ]
  },
  {
   "cell_type": "markdown",
   "metadata": {},
   "source": [
    "## 4. Model Training\n",
    "Now, we will build up to a full model training loop. Before we train, we need to initialize our loss function and optimizer. \n",
    "\n",
    "* The loss function measures how far off the model's predictions are from the true values. We use the gradient of this loss value to determine the direction and amount to change each parameter (with backpropagation).\n",
    "\n",
    "* The optimizer actually performs the parameter update. It uses the learning rate, which tells us how large of an update to make, to update the parameters in order to minimize the loss.\n",
    "\n",
    "**Analogy:** The loss function is like a GPS, telling you which direction to go to reach your destination (minimum loss). The optimizer is like a driver, steering the vehicle after looking at the GPS to reach the destination quickly."
   ]
  },
  {
   "cell_type": "code",
   "execution_count": 9,
   "metadata": {},
   "outputs": [],
   "source": [
    "# loss: measures how far off the model's predictions are from the true values\n",
    "loss_fn = nn.MSELoss()\n",
    "\n",
    "# optimizer: performs the updates to model parameters\n",
    "# lr: learning rate - how big of a step to take\n",
    "optimizer = optim.AdamW(model.parameters(), lr=0.01)"
   ]
  },
  {
   "cell_type": "markdown",
   "metadata": {},
   "source": [
    "### 4.1. Single training step\n",
    "There are six steps in a basic training update in pytorch:\n",
    "\n",
    "1. get a batch of examples from your dataloader.\n",
    "2. reset the optimizer gradients to 0 to \"refresh its memory\".\n",
    "3. use the model to predict $y$ outputs for each observation in your batch of $x$ inputs.\n",
    "4. use the loss function to measure the difference between predicted and actual $y$ values.\n",
    "5. use the loss value to determine the optimal direction to tweak each parameter.\n",
    "6. use the optimizer to change the model parameters in this optimal direction."
   ]
  },
  {
   "cell_type": "code",
   "execution_count": 17,
   "metadata": {},
   "outputs": [
    {
     "name": "stdout",
     "output_type": "stream",
     "text": [
      "Loss: 3.2701\n"
     ]
    }
   ],
   "source": [
    "# single example\n",
    "# get batch\n",
    "x, y = next(iter(train_loader))\n",
    "\n",
    "# zero the gradients (tell the optimizer to forget the gradients from the last batch)\n",
    "optimizer.zero_grad()\n",
    "\n",
    "# forward pass (make a prediction)\n",
    "y_pred = model(x)\n",
    "\n",
    "# calculate the loss\n",
    "loss = loss_fn(y_pred, y)\n",
    "print(f\"Loss: {loss.item():.4f}\")\n",
    "\n",
    "# backward pass (calculate the gradients)\n",
    "loss.backward() \n",
    "\n",
    "# update the weights\n",
    "optimizer.step()"
   ]
  },
  {
   "cell_type": "markdown",
   "metadata": {},
   "source": [
    "### 4.2. Single Epoch Training Loop\n",
    "Performing a single training step on all batches in the dataloader is called an epoch. The code below shows a training loop for a single epoch. It is very similar to the above code, but we iterative through the data loader in a for loop instead of getting a single batch only. We see that as the model takes more steps in the direction of optimization, the loss decreases. This is the **learning** process happening in real time!"
   ]
  },
  {
   "cell_type": "code",
   "execution_count": 18,
   "metadata": {},
   "outputs": [
    {
     "name": "stdout",
     "output_type": "stream",
     "text": [
      "Loss: 0.01893801987171173 | Batch: 100/1000\r"
     ]
    }
   ],
   "source": [
    "# training loop (single epoch)\n",
    "i = 0\n",
    "# get batch\n",
    "for x, y in train_loader:\n",
    "    \n",
    "    # zero the gradients (tell the optimizer to forget the gradients from the last batch)\n",
    "    optimizer.zero_grad()\n",
    "\n",
    "    # forward pass (make a prediction)\n",
    "    y_pred = model(x)\n",
    "\n",
    "    # calculate the loss\n",
    "    loss = loss_fn(y_pred, y)\n",
    "\n",
    "    # backward pass (calculate the gradients)\n",
    "    loss.backward()\n",
    "\n",
    "    # update the weights\n",
    "    optimizer.step()\n",
    "\n",
    "    i += 1\n",
    "    print(f\"Loss: {loss.item()} | Batch: {i}/{len(train_loader)}\", end=\"\\r\")"
   ]
  },
  {
   "cell_type": "markdown",
   "metadata": {},
   "source": [
    "### 4.3 Full Training Loop\n",
    "Finally, we add an outer iterator to the loop above to specify the number of **epochs** we want to train for. For example, if we train for 10 epochs, our model will see each batch of data 10 times.\n",
    "\n",
    "Additionally, we add a separate **validation loop** within the epoch to check our model's performance on unseen data. Ideally, the model should be able to generalize, with similar performance metrics on new data.\n",
    "\n",
    "Instead of tracking the loss per batch, we now calculate the average loss per epoch."
   ]
  },
  {
   "cell_type": "code",
   "execution_count": 19,
   "metadata": {},
   "outputs": [
    {
     "name": "stdout",
     "output_type": "stream",
     "text": [
      "Epoch: 1/50 | Train Loss: 5.4982 | Test Loss: 5.0996\n",
      "Epoch: 2/50 | Train Loss: 4.5606 | Test Loss: 4.2100\n",
      "Epoch: 3/50 | Train Loss: 3.7387 | Test Loss: 3.4327\n",
      "Epoch: 4/50 | Train Loss: 3.0218 | Test Loss: 2.7594\n",
      "Epoch: 5/50 | Train Loss: 2.4057 | Test Loss: 2.1829\n",
      "Epoch: 6/50 | Train Loss: 1.8872 | Test Loss: 1.7068\n",
      "Epoch: 7/50 | Train Loss: 1.4616 | Test Loss: 1.3178\n",
      "Epoch: 8/50 | Train Loss: 1.1210 | Test Loss: 1.0088\n",
      "Epoch: 9/50 | Train Loss: 0.8569 | Test Loss: 0.7743\n",
      "Epoch: 10/50 | Train Loss: 0.6579 | Test Loss: 0.5978\n",
      "Epoch: 11/50 | Train Loss: 0.5119 | Test Loss: 0.4722\n",
      "Epoch: 12/50 | Train Loss: 0.4085 | Test Loss: 0.3814\n",
      "Epoch: 13/50 | Train Loss: 0.3358 | Test Loss: 0.3178\n",
      "Epoch: 14/50 | Train Loss: 0.2850 | Test Loss: 0.2733\n",
      "Epoch: 15/50 | Train Loss: 0.2486 | Test Loss: 0.2400\n",
      "Epoch: 16/50 | Train Loss: 0.2209 | Test Loss: 0.2141\n",
      "Epoch: 17/50 | Train Loss: 0.1986 | Test Loss: 0.1924\n",
      "Epoch: 18/50 | Train Loss: 0.1795 | Test Loss: 0.1733\n",
      "Epoch: 19/50 | Train Loss: 0.1622 | Test Loss: 0.1562\n",
      "Epoch: 20/50 | Train Loss: 0.1461 | Test Loss: 0.1399\n",
      "Epoch: 21/50 | Train Loss: 0.1311 | Test Loss: 0.1248\n",
      "Epoch: 22/50 | Train Loss: 0.1169 | Test Loss: 0.1109\n",
      "Epoch: 23/50 | Train Loss: 0.1037 | Test Loss: 0.0979\n",
      "Epoch: 24/50 | Train Loss: 0.0916 | Test Loss: 0.0859\n",
      "Epoch: 25/50 | Train Loss: 0.0805 | Test Loss: 0.0752\n",
      "Epoch: 26/50 | Train Loss: 0.0705 | Test Loss: 0.0653\n",
      "Epoch: 27/50 | Train Loss: 0.0614 | Test Loss: 0.0568\n",
      "Epoch: 28/50 | Train Loss: 0.0533 | Test Loss: 0.0491\n",
      "Epoch: 29/50 | Train Loss: 0.0461 | Test Loss: 0.0421\n",
      "Epoch: 30/50 | Train Loss: 0.0398 | Test Loss: 0.0362\n",
      "Epoch: 31/50 | Train Loss: 0.0342 | Test Loss: 0.0311\n",
      "Epoch: 32/50 | Train Loss: 0.0295 | Test Loss: 0.0267\n",
      "Epoch: 33/50 | Train Loss: 0.0254 | Test Loss: 0.0230\n",
      "Epoch: 34/50 | Train Loss: 0.0220 | Test Loss: 0.0200\n",
      "Epoch: 35/50 | Train Loss: 0.0192 | Test Loss: 0.0176\n",
      "Epoch: 36/50 | Train Loss: 0.0169 | Test Loss: 0.0157\n",
      "Epoch: 37/50 | Train Loss: 0.0152 | Test Loss: 0.0142\n",
      "Epoch: 38/50 | Train Loss: 0.0138 | Test Loss: 0.0131\n",
      "Epoch: 39/50 | Train Loss: 0.0127 | Test Loss: 0.0123\n",
      "Epoch: 40/50 | Train Loss: 0.0119 | Test Loss: 0.0118\n",
      "Epoch: 41/50 | Train Loss: 0.0113 | Test Loss: 0.0113\n",
      "Epoch: 42/50 | Train Loss: 0.0109 | Test Loss: 0.0109\n",
      "Epoch: 43/50 | Train Loss: 0.0106 | Test Loss: 0.0107\n",
      "Epoch: 44/50 | Train Loss: 0.0104 | Test Loss: 0.0106\n",
      "Epoch: 45/50 | Train Loss: 0.0102 | Test Loss: 0.0106\n",
      "Epoch: 46/50 | Train Loss: 0.0101 | Test Loss: 0.0106\n",
      "Epoch: 47/50 | Train Loss: 0.0100 | Test Loss: 0.0104\n",
      "Epoch: 48/50 | Train Loss: 0.0100 | Test Loss: 0.0104\n",
      "Epoch: 49/50 | Train Loss: 0.0099 | Test Loss: 0.0103\n",
      "Epoch: 50/50 | Train Loss: 0.0099 | Test Loss: 0.0103\n"
     ]
    }
   ],
   "source": [
    "# reinitialize model, loss, opt, to start fresh\n",
    "model = Net()\n",
    "loss_fn = nn.MSELoss()\n",
    "optimizer = optim.Adam(model.parameters(), lr=0.0001)\n",
    "\n",
    "# training loop (multiple epochs)\n",
    "n_epochs = 50\n",
    "\n",
    "train_losses = []\n",
    "test_losses = []\n",
    "\n",
    "for epoch in range(n_epochs):\n",
    "\n",
    "    # init losses\n",
    "    train_loss = 0.0\n",
    "    test_loss = 0.0\n",
    "\n",
    "    # training\n",
    "    model.train()\n",
    "\n",
    "    # get batch\n",
    "    for x, y in train_loader:\n",
    "\n",
    "        # zero the gradients (tell the optimizer to forget the gradients from the last batch)\n",
    "        optimizer.zero_grad()\n",
    "\n",
    "        # forward pass (make a prediction)\n",
    "        y_pred = model(x)\n",
    "\n",
    "        # calculate the loss\n",
    "        loss = loss_fn(y_pred, y)\n",
    "\n",
    "        # backward pass (calculate the gradients)\n",
    "        loss.backward()\n",
    "\n",
    "        # update the weights\n",
    "        optimizer.step()\n",
    "\n",
    "        train_loss += loss.item()\n",
    "        train_losses.append(loss.item())\n",
    "\n",
    "    # normalize the loss\n",
    "    train_loss /= len(train_loader)\n",
    "    \n",
    "    # evaluate the model\n",
    "    model.eval()\n",
    "    \n",
    "    with torch.no_grad():\n",
    "        for x, y in test_loader:\n",
    "\n",
    "            # forward pass (make a prediction)\n",
    "            y_pred = model(x)\n",
    "\n",
    "            # calculate the loss\n",
    "            loss = loss_fn(y_pred, y)\n",
    "\n",
    "            test_loss += loss.item()\n",
    "            test_losses.append(loss.item())\n",
    "    \n",
    "    # normalize the loss\n",
    "    test_loss /= len(test_loader)\n",
    "\n",
    "    print(f\"Epoch: {epoch+1}/{n_epochs} | Train Loss: {train_loss:.4f} | Test Loss: {test_loss:.4f}\")"
   ]
  },
  {
   "cell_type": "markdown",
   "metadata": {},
   "source": [
    "### 4.4. Plot the training and test losses\n",
    "Finally, to analyze performances, we will plot the loss per epoch.\n",
    "We see that as the model performs more training steps, the loss decreases, indicating that our model is learning the transformation function."
   ]
  },
  {
   "cell_type": "code",
   "execution_count": 20,
   "metadata": {},
   "outputs": [
    {
     "data": {
      "image/png": "[encoded data removed]",
      "text/plain": [
       "<Figure size 1000x500 with 1 Axes>"
      ]
     },
     "metadata": {},
     "output_type": "display_data"
    }
   ],
   "source": [
    "# plot the losses per epoch. normalize the x-axis s.t. the train and test losses are on the same scale\n",
    "plt.figure(figsize=(10, 5))\n",
    "plt.plot(np.arange(len(train_losses)), train_losses, label=\"Train Loss\", linestyle=\"-\")\n",
    "plt.plot(np.linspace(0, len(train_losses), len(test_losses), endpoint=False), test_losses, label=\"Test Loss\", linestyle=\"--\")\n",
    "plt.xlabel(\"Iterations\")\n",
    "plt.ylabel(\"Loss\")\n",
    "plt.legend()\n",
    "plt.show()"
   ]
  },
  {
   "cell_type": "code",
   "execution_count": 25,
   "metadata": {},
   "outputs": [
    {
     "name": "stdout",
     "output_type": "stream",
     "text": [
      "True: 1.4648 | Pred: 1.4681\n"
     ]
    }
   ],
   "source": [
    "# inference \n",
    "x = torch.tensor([0.2324])\n",
    "y = torch.tensor([2 * x + 1])\n",
    "y_pred = model(x)\n",
    "\n",
    "print(f\"True: {y.item():.4f} | Pred: {y_pred.item():.4f}\")"
   ]
  }
 ],
 "metadata": {
  "kernelspec": {
   "display_name": "dl-base",
   "language": "python",
   "name": "python3"
  },
  "language_info": {
   "codemirror_mode": {
    "name": "ipython",
    "version": 3
   },
   "file_extension": ".py",
   "mimetype": "text/x-python",
   "name": "python",
   "nbconvert_exporter": "python",
   "pygments_lexer": "ipython3",
   "version": "3.12.3"
  }
 },
 "nbformat": 4,
 "nbformat_minor": 2
}
